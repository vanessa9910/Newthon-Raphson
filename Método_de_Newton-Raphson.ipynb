{
 "cells": [
  {
   "cell_type": "markdown",
   "metadata": {
    "collapsed": false
   },
   "source": [
    "Requiere la derivada y un punto"
   ]
  },
  {
   "cell_type": "code",
   "execution_count": 4,
   "metadata": {
    "collapsed": false
   },
   "outputs": [
    {
     "name": "stdout",
     "output_type": "stream",
     "text": [
      "La raiz es 1.50001\n",
      "Usando 5 iteraciones\n"
     ]
    }
   ],
   "source": [
    "def f(x):\n",
    "    return (2*x**2-5*x+3)\n",
    "def fprima(x):\n",
    "    return 4*x-5\n",
    "\n",
    "x0=2\n",
    "itera = 0\n",
    "for i in range  (100):\n",
    "    itera += 1\n",
    "    xr = x0 - f(x0)/fprima(x0)\n",
    "    if abs(f(xr))< 0.000001:\n",
    "        break\n",
    "    x0 = xr\n",
    "\n",
    "print(\"La raiz es %.5f\"%x0)\n",
    "print (\"Usando %i iteraciones\" %itera)\n",
    "    "
   ]
  },
  {
   "cell_type": "code",
   "execution_count": 0,
   "metadata": {
    "collapsed": false
   },
   "outputs": [
   ],
   "source": [
   ]
  }
 ],
 "metadata": {
  "kernelspec": {
   "display_name": "Python 3 (Anaconda 5)",
   "language": "python",
   "name": "anaconda5"
  },
  "language_info": {
   "codemirror_mode": {
    "name": "ipython",
    "version": 3
   },
   "file_extension": ".py",
   "mimetype": "text/x-python",
   "name": "python",
   "nbconvert_exporter": "python",
   "pygments_lexer": "ipython3",
   "version": "3.6.5"
  }
 },
 "nbformat": 4,
 "nbformat_minor": 0
}